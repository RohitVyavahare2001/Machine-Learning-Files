{
 "cells": [
  {
   "cell_type": "code",
   "execution_count": 1,
   "id": "fa836cba",
   "metadata": {},
   "outputs": [],
   "source": [
    "# algorithm starts at x=5\n",
    "\n",
    "x_0=5\n",
    "\n",
    "#learning rate \n",
    "rate =0.001\n",
    "\n",
    "#max number of iteration \n",
    "max_iters=10000\n",
    "\n",
    "# stopping criteria\n",
    "s=0.0001\n",
    "\n",
    "#diff between current x amd new x\n",
    "diff=1\n",
    "\n",
    "#initiate number of iteration\n",
    "\n",
    "iters=0"
   ]
  },
  {
   "cell_type": "code",
   "execution_count": 2,
   "id": "e57e85a4",
   "metadata": {},
   "outputs": [],
   "source": [
    "#input function\n",
    "\n",
    "d=lambda x:4*(x**3)-(20*x)"
   ]
  },
  {
   "cell_type": "code",
   "execution_count": 4,
   "id": "ea086ca9",
   "metadata": {},
   "outputs": [
    {
     "name": "stdout",
     "output_type": "stream",
     "text": [
      "iteration20: x=2.752765519933938\n",
      "iteration30: x=2.540026227015159\n",
      "iteration40: x=2.424157649151624\n",
      "iteration50: x=2.355698674758306\n",
      "iteration60: x=2.3133970293306554\n",
      "iteration70: x=2.286553922614749\n",
      "iteration80: x=2.2692375130660856\n",
      "iteration90: x=2.257949336033131\n",
      "iteration100: x=2.2505410046607888\n",
      "iteration110: x=2.2456575422507323\n",
      "iteration120: x=2.2424291258463547\n",
      "iteration130: x=2.2402907793151225\n",
      "iteration140: x=2.238872658364325\n",
      "====================================\n",
      "global minima is at x=2.2384494200813188\n"
     ]
    }
   ],
   "source": [
    "#while loop for iteration\n",
    "\n",
    "while diff>s and iters<max_iters:\n",
    "    #old value of x\n",
    "    prev_x=x_0\n",
    "    #new value of x\n",
    "    x_0=x_0-rate*d(prev_x)\n",
    "    \n",
    "    #diff\n",
    "    diff=abs(x_0-prev_x)\n",
    "    \n",
    "    #increase iterations by 1\n",
    "    \n",
    "    iters=iters+1\n",
    "    \n",
    "    #condition for steps\n",
    "    \n",
    "    if iters%10==0:\n",
    "        print(\"iteration{}: x={}\".format(iters,x_0))\n",
    "        \n",
    "print(\"====================================\")\n",
    "print(\"global minima is at x={}\".format(x_0))"
   ]
  },
  {
   "cell_type": "code",
   "execution_count": null,
   "id": "8be3a937",
   "metadata": {},
   "outputs": [],
   "source": []
  },
  {
   "cell_type": "code",
   "execution_count": null,
   "id": "9f88d5af",
   "metadata": {},
   "outputs": [],
   "source": []
  },
  {
   "cell_type": "code",
   "execution_count": null,
   "id": "789c6a33",
   "metadata": {},
   "outputs": [],
   "source": []
  },
  {
   "cell_type": "code",
   "execution_count": null,
   "id": "d67d0669",
   "metadata": {},
   "outputs": [],
   "source": []
  },
  {
   "cell_type": "code",
   "execution_count": null,
   "id": "2ddec9f2",
   "metadata": {},
   "outputs": [],
   "source": []
  },
  {
   "cell_type": "code",
   "execution_count": null,
   "id": "6f60fca2",
   "metadata": {},
   "outputs": [],
   "source": []
  },
  {
   "cell_type": "code",
   "execution_count": null,
   "id": "756cfd15",
   "metadata": {},
   "outputs": [],
   "source": []
  },
  {
   "cell_type": "code",
   "execution_count": null,
   "id": "f1ed6ce3",
   "metadata": {},
   "outputs": [],
   "source": []
  },
  {
   "cell_type": "code",
   "execution_count": null,
   "id": "60bda63f",
   "metadata": {},
   "outputs": [],
   "source": []
  },
  {
   "cell_type": "code",
   "execution_count": null,
   "id": "4c211434",
   "metadata": {},
   "outputs": [],
   "source": []
  },
  {
   "cell_type": "code",
   "execution_count": null,
   "id": "a1e1eb99",
   "metadata": {},
   "outputs": [],
   "source": []
  },
  {
   "cell_type": "code",
   "execution_count": null,
   "id": "e6293234",
   "metadata": {},
   "outputs": [],
   "source": []
  },
  {
   "cell_type": "code",
   "execution_count": null,
   "id": "7f806b40",
   "metadata": {},
   "outputs": [],
   "source": []
  },
  {
   "cell_type": "code",
   "execution_count": null,
   "id": "4b95377d",
   "metadata": {},
   "outputs": [],
   "source": []
  },
  {
   "cell_type": "code",
   "execution_count": null,
   "id": "38cec77f",
   "metadata": {},
   "outputs": [],
   "source": []
  },
  {
   "cell_type": "code",
   "execution_count": null,
   "id": "790d78ab",
   "metadata": {},
   "outputs": [],
   "source": []
  },
  {
   "cell_type": "code",
   "execution_count": null,
   "id": "5ad4c2c2",
   "metadata": {},
   "outputs": [],
   "source": []
  },
  {
   "cell_type": "code",
   "execution_count": null,
   "id": "76349da3",
   "metadata": {},
   "outputs": [],
   "source": []
  },
  {
   "cell_type": "code",
   "execution_count": null,
   "id": "8f0112f9",
   "metadata": {},
   "outputs": [],
   "source": []
  },
  {
   "cell_type": "code",
   "execution_count": null,
   "id": "933c15c2",
   "metadata": {},
   "outputs": [],
   "source": []
  },
  {
   "cell_type": "code",
   "execution_count": null,
   "id": "8a090fec",
   "metadata": {},
   "outputs": [],
   "source": []
  },
  {
   "cell_type": "code",
   "execution_count": null,
   "id": "23c9c3f5",
   "metadata": {},
   "outputs": [],
   "source": []
  },
  {
   "cell_type": "code",
   "execution_count": null,
   "id": "a221dae2",
   "metadata": {},
   "outputs": [],
   "source": []
  }
 ],
 "metadata": {
  "kernelspec": {
   "display_name": "Python 3 (ipykernel)",
   "language": "python",
   "name": "python3"
  },
  "language_info": {
   "codemirror_mode": {
    "name": "ipython",
    "version": 3
   },
   "file_extension": ".py",
   "mimetype": "text/x-python",
   "name": "python",
   "nbconvert_exporter": "python",
   "pygments_lexer": "ipython3",
   "version": "3.9.13"
  }
 },
 "nbformat": 4,
 "nbformat_minor": 5
}
